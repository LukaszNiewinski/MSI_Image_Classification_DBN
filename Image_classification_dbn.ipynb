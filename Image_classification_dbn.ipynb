{
 "cells": [
  {
   "cell_type": "markdown",
   "metadata": {
    "collapsed": true
   },
   "source": [
    "# Images classification using Deep Belief Network"
   ]
  },
  {
   "cell_type": "code",
   "execution_count": 2,
   "metadata": {},
   "outputs": [
    {
     "name": "stderr",
     "output_type": "stream",
     "text": [
      "c:\\users\\hp\\.virtualenvs\\baysian_network_2-u7nvgy3t\\lib\\site-packages\\tensorflow\\python\\framework\\dtypes.py:516: FutureWarning: Passing (type, 1) or '1type' as a synonym of type is deprecated; in a future version of numpy, it will be understood as (type, (1,)) / '(1,)type'.\n",
      "  _np_qint8 = np.dtype([(\"qint8\", np.int8, 1)])\n",
      "c:\\users\\hp\\.virtualenvs\\baysian_network_2-u7nvgy3t\\lib\\site-packages\\tensorflow\\python\\framework\\dtypes.py:517: FutureWarning: Passing (type, 1) or '1type' as a synonym of type is deprecated; in a future version of numpy, it will be understood as (type, (1,)) / '(1,)type'.\n",
      "  _np_quint8 = np.dtype([(\"quint8\", np.uint8, 1)])\n",
      "c:\\users\\hp\\.virtualenvs\\baysian_network_2-u7nvgy3t\\lib\\site-packages\\tensorflow\\python\\framework\\dtypes.py:518: FutureWarning: Passing (type, 1) or '1type' as a synonym of type is deprecated; in a future version of numpy, it will be understood as (type, (1,)) / '(1,)type'.\n",
      "  _np_qint16 = np.dtype([(\"qint16\", np.int16, 1)])\n",
      "c:\\users\\hp\\.virtualenvs\\baysian_network_2-u7nvgy3t\\lib\\site-packages\\tensorflow\\python\\framework\\dtypes.py:519: FutureWarning: Passing (type, 1) or '1type' as a synonym of type is deprecated; in a future version of numpy, it will be understood as (type, (1,)) / '(1,)type'.\n",
      "  _np_quint16 = np.dtype([(\"quint16\", np.uint16, 1)])\n",
      "c:\\users\\hp\\.virtualenvs\\baysian_network_2-u7nvgy3t\\lib\\site-packages\\tensorflow\\python\\framework\\dtypes.py:520: FutureWarning: Passing (type, 1) or '1type' as a synonym of type is deprecated; in a future version of numpy, it will be understood as (type, (1,)) / '(1,)type'.\n",
      "  _np_qint32 = np.dtype([(\"qint32\", np.int32, 1)])\n",
      "c:\\users\\hp\\.virtualenvs\\baysian_network_2-u7nvgy3t\\lib\\site-packages\\tensorflow\\python\\framework\\dtypes.py:525: FutureWarning: Passing (type, 1) or '1type' as a synonym of type is deprecated; in a future version of numpy, it will be understood as (type, (1,)) / '(1,)type'.\n",
      "  np_resource = np.dtype([(\"resource\", np.ubyte, 1)])\n",
      "c:\\users\\hp\\.virtualenvs\\baysian_network_2-u7nvgy3t\\lib\\site-packages\\tensorboard\\compat\\tensorflow_stub\\dtypes.py:541: FutureWarning: Passing (type, 1) or '1type' as a synonym of type is deprecated; in a future version of numpy, it will be understood as (type, (1,)) / '(1,)type'.\n",
      "  _np_qint8 = np.dtype([(\"qint8\", np.int8, 1)])\n",
      "c:\\users\\hp\\.virtualenvs\\baysian_network_2-u7nvgy3t\\lib\\site-packages\\tensorboard\\compat\\tensorflow_stub\\dtypes.py:542: FutureWarning: Passing (type, 1) or '1type' as a synonym of type is deprecated; in a future version of numpy, it will be understood as (type, (1,)) / '(1,)type'.\n",
      "  _np_quint8 = np.dtype([(\"quint8\", np.uint8, 1)])\n",
      "c:\\users\\hp\\.virtualenvs\\baysian_network_2-u7nvgy3t\\lib\\site-packages\\tensorboard\\compat\\tensorflow_stub\\dtypes.py:543: FutureWarning: Passing (type, 1) or '1type' as a synonym of type is deprecated; in a future version of numpy, it will be understood as (type, (1,)) / '(1,)type'.\n",
      "  _np_qint16 = np.dtype([(\"qint16\", np.int16, 1)])\n",
      "c:\\users\\hp\\.virtualenvs\\baysian_network_2-u7nvgy3t\\lib\\site-packages\\tensorboard\\compat\\tensorflow_stub\\dtypes.py:544: FutureWarning: Passing (type, 1) or '1type' as a synonym of type is deprecated; in a future version of numpy, it will be understood as (type, (1,)) / '(1,)type'.\n",
      "  _np_quint16 = np.dtype([(\"quint16\", np.uint16, 1)])\n",
      "c:\\users\\hp\\.virtualenvs\\baysian_network_2-u7nvgy3t\\lib\\site-packages\\tensorboard\\compat\\tensorflow_stub\\dtypes.py:545: FutureWarning: Passing (type, 1) or '1type' as a synonym of type is deprecated; in a future version of numpy, it will be understood as (type, (1,)) / '(1,)type'.\n",
      "  _np_qint32 = np.dtype([(\"qint32\", np.int32, 1)])\n",
      "c:\\users\\hp\\.virtualenvs\\baysian_network_2-u7nvgy3t\\lib\\site-packages\\tensorboard\\compat\\tensorflow_stub\\dtypes.py:550: FutureWarning: Passing (type, 1) or '1type' as a synonym of type is deprecated; in a future version of numpy, it will be understood as (type, (1,)) / '(1,)type'.\n",
      "  np_resource = np.dtype([(\"resource\", np.ubyte, 1)])\n"
     ]
    },
    {
     "name": "stdout",
     "output_type": "stream",
     "text": [
      "WARNING:tensorflow:From C:\\Users\\HP\\repositories\\Baysian network 2\\dbn\\tensorflow\\models.py:19: The name tf.Session is deprecated. Please use tf.compat.v1.Session instead.\n",
      "\n"
     ]
    }
   ],
   "source": [
    "import numpy as np\n",
    "import json\n",
    "\n",
    "import random\n",
    "np.random.seed(1337)  # for reproducibility\n",
    "\n",
    "from scipy.io import loadmat\n",
    "\n",
    "%matplotlib inline\n",
    "from matplotlib import pyplot as plt\n",
    "\n",
    "from sklearn.metrics.classification import accuracy_score\n",
    "from sklearn.model_selection import train_test_split\n",
    "from collections import namedtuple\n",
    "\n",
    "from dbn.tensorflow import SupervisedDBNClassification"
   ]
  },
  {
   "cell_type": "markdown",
   "metadata": {},
   "source": [
    "### Loading and preprocessing the data"
   ]
  },
  {
   "cell_type": "code",
   "execution_count": 17,
   "metadata": {},
   "outputs": [
    {
     "name": "stdout",
     "output_type": "stream",
     "text": [
      "Read keys stored within an annots dict:\n",
      "\n",
      " dict_keys(['__header__', '__version__', '__globals__', 'classnames', 'train_data', 'val_data', 'test_data', 'train_labels', 'val_labels', 'test_labels']) \n",
      "\n"
     ]
    }
   ],
   "source": [
    "# Import data from matlab .mat file\n",
    "data_dir = 'data'\n",
    "# dir for data files 16px and 28 pix\n",
    "data_dir_16split = data_dir + '/caltech101_silhouettes_16_split1.mat'\n",
    "data_dir_28split = data_dir + '/caltech101_silhouettes_28_split1.mat'\n",
    "\n",
    "# define range of classes, between 1-101  \n",
    "left = 1\n",
    "right = 33\n",
    "\n",
    "# data reads from .mat file are stored within dict list annots\n",
    "annots = loadmat(data_dir_16split)\n",
    "\n",
    "# Create list of all classes read from data file \n",
    "classnames = []\n",
    "class_num_to_name = dict()\n",
    "# a mapping dictionary from class number to its name\n",
    "for i in range(left-1, right):\n",
    "    classnames.append(annots['classnames'][0][i][0])\n",
    "    class_num_to_name[i+1] = annots['classnames'][0][i][0]\n",
    "    \n",
    "print(\"Read keys stored within an annots dict:\\n\\n\", annots.keys(), \"\\n\")\n",
    "\n",
    "# print(\"A list of\", left,\"-\", right, \"mapped classnames:\\n\")\n",
    "# print(class_num_to_name)"
   ]
  },
  {
   "cell_type": "code",
   "execution_count": 18,
   "metadata": {},
   "outputs": [],
   "source": [
    "# function dat extract data with labels within range <left, right>\n",
    "def get_proper_classes(data_name, label_name, left, right):\n",
    "    data = list()\n",
    "    labels = list()\n",
    "    i = 0\n",
    "    for img in annots[data_name]:\n",
    "        if annots[label_name][i] <= right and annots[label_name][i] >= left:\n",
    "            data.append(img)\n",
    "            labels.append(annots[label_name][i])\n",
    "        i += 1 \n",
    "    data = np.array(data)\n",
    "    labels = np.array(labels).flatten()\n",
    "    return data, labels"
   ]
  },
  {
   "cell_type": "code",
   "execution_count": 19,
   "metadata": {
    "scrolled": true
   },
   "outputs": [
    {
     "name": "stdout",
     "output_type": "stream",
     "text": [
      "train_data shape: (1574, 256) train_labels shape: (1574,)\n",
      "val_data shape: (1425, 256) val_labels shape: (1425,)\n",
      "test_data shape: (1437, 256) test_labels shape: (1437,)\n"
     ]
    }
   ],
   "source": [
    "# an image is represented by an array of 256 or 784 elements (16x16pix or 28x28pix)\n",
    "train_data, train_labels = get_proper_classes('train_data', 'train_labels', left, right)\n",
    "val_data, val_labels = get_proper_classes('val_data', 'val_labels', left, right)\n",
    "test_data, test_labels = get_proper_classes('test_data', 'test_labels', left, right)\n",
    "\n",
    "# simple check if each image has it's label\n",
    "print(\"train_data shape:\", train_data.shape, \"train_labels shape:\", train_labels.shape)\n",
    "print(\"val_data shape:\", val_data.shape, \"val_labels shape:\", val_labels.shape)\n",
    "print(\"test_data shape:\", test_data.shape, \"test_labels shape:\", test_labels.shape)"
   ]
  },
  {
   "cell_type": "code",
   "execution_count": 20,
   "metadata": {},
   "outputs": [],
   "source": [
    "# function that counts quantity of images of each class\n",
    "def count_images(dictionary, label_name, label):\n",
    "    for x in label:\n",
    "        dic_counts[label_name][x] = dic_counts[label_name].get(x) + 1 \n",
    "    return dictionary "
   ]
  },
  {
   "cell_type": "code",
   "execution_count": 22,
   "metadata": {},
   "outputs": [
    {
     "name": "stdout",
     "output_type": "stream",
     "text": [
      "\u001b[1mCLASS NAME          ID         TRAIN      VAL        TEST       \u001b[0m\n",
      "Airplanes Side 2    1          100        349        349       \n",
      "Faces 2             2          100        167        168       \n",
      "Faces 3             3          100        167        168       \n",
      "Leopards            4          100        50         50        \n",
      "Motorbikes 16       5          100        349        349       \n",
      "accordion           6          33         11         11        \n",
      "anchor              7          26         8          8         \n",
      "ant                 8          26         8          8         \n",
      "barrel              9          27         9          9         \n",
      "bass                10         33         10         11        \n",
      "beaver              11         28         9          9         \n",
      "binocular           12         20         6          6         \n",
      "bonsai              13         77         25         26        \n",
      "brain               14         59         19         20        \n",
      "brontosaurus        15         26         8          9         \n",
      "buddha              16         51         17         17        \n",
      "butterfly           17         55         18         18        \n",
      "camera              18         29         9          9         \n",
      "cannon              19         26         8          9         \n",
      "car side            20         74         24         25        \n",
      "ceiling fan         21         29         9          9         \n",
      "cellphone           22         36         11         12        \n",
      "chair               23         38         12         12        \n",
      "chandelier          24         65         21         21        \n",
      "cougar body         25         29         9          9         \n",
      "cougar face         26         41         13         13        \n",
      "crab                27         44         14         15        \n",
      "crayfish            28         42         14         14        \n",
      "crocodile           29         30         10         10        \n",
      "crocodile head      30         31         10         10        \n",
      "cup                 31         33         10         11        \n",
      "dalmatian           32         40         13         13        \n",
      "dollar bill         33         26         8          9         \n",
      "\n",
      "total number of elements: 4436\n"
     ]
    }
   ],
   "source": [
    "# count number of images of each class within each label group\n",
    "labels_names = ['train_labels', 'val_labels', 'test_labels']\n",
    "\n",
    "# classes are within range\n",
    "classes = [i for i in range(left, right+1)]\n",
    "\n",
    "# create empty nested dictionaries to store quantity of each class img within each group\n",
    "dic_counts = { label:{ class_id: 0 for class_id in classes} for label in labels_names}\n",
    "\n",
    "# count number of occurences of each class within each group\n",
    "dic_counts = count_images(dic_counts, 'train_labels', train_labels)\n",
    "dic_counts = count_images(dic_counts, 'val_labels', val_labels)\n",
    "dic_counts = count_images(dic_counts, 'test_labels', test_labels)\n",
    "        \n",
    "# print data\n",
    "total =0\n",
    "print(\"\\033[1m{:<20}{:<10} {:<10} {:<10} {:<10} \\033[0m\".format('CLASS NAME', 'ID', 'TRAIN', \"VAL\", \"TEST\"))\n",
    "for class_id in classes:\n",
    "    print('{:<20}{:<10} {:<10} {:<10} {:<10}'.format(classnames[class_id-1], class_id, dic_counts['train_labels'][class_id],\n",
    "                                                 dic_counts['val_labels'][class_id],\n",
    "                                                 dic_counts['test_labels'][class_id]))\n",
    "#     # restrict output rows to 10 elements\n",
    "#     if class_id == 10:\n",
    "#         print('{:<20}{:<10} {:<10} {:<10} {:<10}'.format(\"...\", \"...\", \"...\", \"...\", \"...\"))\n",
    "#         break\n",
    "total = train_data.shape[0] + val_data.shape[0] + test_data.shape[0]\n",
    "print(\"\\ntotal number of elements:\", total)"
   ]
  },
  {
   "cell_type": "code",
   "execution_count": 23,
   "metadata": {},
   "outputs": [
    {
     "name": "stdout",
     "output_type": "stream",
     "text": [
      "Example of digit images of size: 16 x 16\n"
     ]
    },
    {
     "data": {
      "image/png": "[encoded data removed]",
      "text/plain": [
       "<Figure size 1440x1440 with 5 Axes>"
      ]
     },
     "metadata": {
      "needs_background": "light"
     },
     "output_type": "display_data"
    },
    {
     "name": "stdout",
     "output_type": "stream",
     "text": [
      "  ceiling fan                cougar face              buddha                    Motorbikes 16             chair                    \n"
     ]
    }
   ],
   "source": [
    "# displaying an exmaple images from a ndarray format\n",
    "# set width and height, depends on read data\n",
    "if annots['train_data'].shape[1] == 256:\n",
    "    w, h = 16, 16\n",
    "else:\n",
    "    w, h = 28, 28\n",
    "\n",
    "print(\"Example of digit images of size:\", w, \"x\", h )\n",
    "# an id's of 5 example images to be displayed, possible range: 'train_data' 0 - 4081, 'val_data' 0 - 2256, 'test_data' 0 - 2301 \n",
    "# generate 5 random integers within proper range for chosen label\n",
    "ids = [random.randint(0,train_data.shape[0]) for _ in range(5)]\n",
    "images = []\n",
    "for id in ids:\n",
    "    image = train_data[id]\n",
    "    # ndarray to store data that can be displayed, width x height x RGB\n",
    "    data = np.zeros((h, w, 3), dtype = np.uint8)\n",
    "    row = 0\n",
    "    column = 0 \n",
    "    for x in image:\n",
    "        if x == 1:\n",
    "            data[row, column]=[255, 255, 255]\n",
    "        row += 1 \n",
    "        if row == h:\n",
    "            column += 1 \n",
    "            row = 0\n",
    "    images.append(data)\n",
    "# matplot used to display an image\n",
    "i = 1\n",
    "rows = 1\n",
    "columns = len(ids)\n",
    "fig = plt.figure(figsize=(20,20))\n",
    "for data in images:\n",
    "    fig.add_subplot(rows, columns, i)\n",
    "    plt.imshow(data, interpolation='nearest')\n",
    "    i += 1 \n",
    "plt.show()\n",
    "class_examples = [classnames[train_labels[x]-1] for x in ids]\n",
    "print('  {:<27}{:<25}{:<26}{:<26}{:<25}'.format(class_examples[0], class_examples[1], class_examples[2], class_examples[3], class_examples[4]))"
   ]
  },
  {
   "cell_type": "markdown",
   "metadata": {},
   "source": [
    "## Building the model"
   ]
  },
  {
   "cell_type": "code",
   "execution_count": 24,
   "metadata": {},
   "outputs": [],
   "source": [
    "# prepare structure store the results\n",
    "Result = namedtuple('Result', 'h_structure, n_epochs batch_size learning_rate accuracy')\n",
    "results = list()"
   ]
  },
  {
   "cell_type": "code",
   "execution_count": 25,
   "metadata": {},
   "outputs": [
    {
     "name": "stdout",
     "output_type": "stream",
     "text": [
      "train data size: (2999, 256)\n",
      "train labels size (2999,)\n",
      "test data size: (1437, 256)\n",
      "test labels size: (1437,)\n"
     ]
    }
   ],
   "source": [
    "# prepare input data\n",
    "train_val = np.concatenate((train_data, val_data), axis=0).astype(np.float32)\n",
    "labels_train_val = np.concatenate((train_labels, val_labels), axis=0)\n",
    "#X_train, X_test, Y_train, Y_test = train_test_split(train, labels, test_size=0.2, random_state=0)\n",
    "\n",
    "print(\"train data size:\", train_val.shape) \n",
    "print(\"train labels size\", labels_train_val.shape)\n",
    "print(\"test data size:\", test_data.shape)\n",
    "print(\"test labels size:\", test_labels.shape)"
   ]
  },
  {
   "cell_type": "code",
   "execution_count": 54,
   "metadata": {},
   "outputs": [],
   "source": [
    "# set the parameters:\n",
    "hidden_layer_structure = [32,32]\n",
    "n_epochs_rbm = 12\n",
    "batch_size = 32\n",
    "learning_rate = 0.1"
   ]
  },
  {
   "cell_type": "code",
   "execution_count": 55,
   "metadata": {},
   "outputs": [
    {
     "name": "stdout",
     "output_type": "stream",
     "text": [
      "[START] Pre-training step:\n",
      ">> Epoch 1 finished \tRBM Reconstruction error 887.304077\n",
      ">> Epoch 2 finished \tRBM Reconstruction error 1467.704224\n",
      ">> Epoch 3 finished \tRBM Reconstruction error 1929.680786\n",
      ">> Epoch 4 finished \tRBM Reconstruction error 3753.567139\n",
      ">> Epoch 5 finished \tRBM Reconstruction error 3488.195068\n",
      ">> Epoch 6 finished \tRBM Reconstruction error 4386.682129\n",
      ">> Epoch 7 finished \tRBM Reconstruction error 6677.146973\n",
      ">> Epoch 8 finished \tRBM Reconstruction error 11039.542969\n",
      ">> Epoch 9 finished \tRBM Reconstruction error 14614.135742\n",
      ">> Epoch 10 finished \tRBM Reconstruction error 21107.521484\n",
      ">> Epoch 11 finished \tRBM Reconstruction error 23234.285156\n",
      ">> Epoch 12 finished \tRBM Reconstruction error 28594.923828\n",
      ">> Epoch 1 finished \tRBM Reconstruction error 2479636.750000\n",
      ">> Epoch 2 finished \tRBM Reconstruction error 3804760.250000\n",
      ">> Epoch 3 finished \tRBM Reconstruction error 1550578.750000\n",
      ">> Epoch 4 finished \tRBM Reconstruction error 3814593.500000\n",
      ">> Epoch 5 finished \tRBM Reconstruction error 2364718.750000\n",
      ">> Epoch 6 finished \tRBM Reconstruction error 9826326.000000\n",
      ">> Epoch 7 finished \tRBM Reconstruction error 38039008.000000\n",
      ">> Epoch 8 finished \tRBM Reconstruction error 52539932.000000\n",
      ">> Epoch 9 finished \tRBM Reconstruction error 66941464.000000\n",
      ">> Epoch 10 finished \tRBM Reconstruction error 67803752.000000\n",
      ">> Epoch 11 finished \tRBM Reconstruction error 71013640.000000\n",
      ">> Epoch 12 finished \tRBM Reconstruction error 62302948.000000\n",
      "[END] Pre-training step\n",
      "[START] Fine tuning step:\n",
      ">> Epoch 0 finished \tANN training loss 3.069480\n",
      ">> Epoch 1 finished \tANN training loss 2.989480\n",
      ">> Epoch 2 finished \tANN training loss 2.750707\n",
      ">> Epoch 3 finished \tANN training loss 2.600029\n",
      ">> Epoch 4 finished \tANN training loss 2.581590\n",
      ">> Epoch 5 finished \tANN training loss 2.605922\n",
      ">> Epoch 6 finished \tANN training loss 2.482782\n",
      ">> Epoch 7 finished \tANN training loss 2.451810\n",
      ">> Epoch 8 finished \tANN training loss 2.446983\n",
      ">> Epoch 9 finished \tANN training loss 2.415814\n",
      ">> Epoch 10 finished \tANN training loss 2.415499\n",
      ">> Epoch 11 finished \tANN training loss 2.342676\n",
      ">> Epoch 12 finished \tANN training loss 2.214929\n",
      ">> Epoch 13 finished \tANN training loss 2.190434\n",
      ">> Epoch 14 finished \tANN training loss 2.097081\n",
      ">> Epoch 15 finished \tANN training loss 2.171768\n",
      ">> Epoch 16 finished \tANN training loss 2.017766\n",
      ">> Epoch 17 finished \tANN training loss 1.993457\n",
      ">> Epoch 18 finished \tANN training loss 2.021437\n",
      ">> Epoch 19 finished \tANN training loss 2.077668\n",
      ">> Epoch 20 finished \tANN training loss 2.005638\n",
      ">> Epoch 21 finished \tANN training loss 2.067923\n",
      ">> Epoch 22 finished \tANN training loss 2.034738\n",
      ">> Epoch 23 finished \tANN training loss 2.050553\n",
      ">> Epoch 24 finished \tANN training loss 1.973929\n",
      ">> Epoch 25 finished \tANN training loss 1.973863\n",
      ">> Epoch 26 finished \tANN training loss 2.066010\n",
      ">> Epoch 27 finished \tANN training loss 1.998848\n",
      ">> Epoch 28 finished \tANN training loss 2.018522\n",
      ">> Epoch 29 finished \tANN training loss 1.965915\n",
      ">> Epoch 30 finished \tANN training loss 1.969450\n",
      ">> Epoch 31 finished \tANN training loss 1.955467\n",
      ">> Epoch 32 finished \tANN training loss 1.994931\n",
      ">> Epoch 33 finished \tANN training loss 1.987989\n",
      ">> Epoch 34 finished \tANN training loss 1.919093\n",
      ">> Epoch 35 finished \tANN training loss 2.030641\n",
      ">> Epoch 36 finished \tANN training loss 1.973086\n",
      ">> Epoch 37 finished \tANN training loss 2.015095\n",
      ">> Epoch 38 finished \tANN training loss 1.890679\n",
      ">> Epoch 39 finished \tANN training loss 1.881206\n",
      ">> Epoch 40 finished \tANN training loss 1.856894\n",
      ">> Epoch 41 finished \tANN training loss 1.875681\n",
      ">> Epoch 42 finished \tANN training loss 1.852541\n",
      ">> Epoch 43 finished \tANN training loss 1.847234\n",
      ">> Epoch 44 finished \tANN training loss 1.894623\n",
      ">> Epoch 45 finished \tANN training loss 1.814886\n",
      ">> Epoch 46 finished \tANN training loss 1.986568\n",
      ">> Epoch 47 finished \tANN training loss 1.832187\n",
      ">> Epoch 48 finished \tANN training loss 1.854416\n",
      ">> Epoch 49 finished \tANN training loss 1.807672\n",
      ">> Epoch 50 finished \tANN training loss 1.764617\n",
      ">> Epoch 51 finished \tANN training loss 1.791674\n",
      ">> Epoch 52 finished \tANN training loss 1.737230\n",
      ">> Epoch 53 finished \tANN training loss 1.744757\n",
      ">> Epoch 54 finished \tANN training loss 1.709725\n",
      ">> Epoch 55 finished \tANN training loss 1.777703\n",
      ">> Epoch 56 finished \tANN training loss 1.804155\n",
      ">> Epoch 57 finished \tANN training loss 1.713273\n",
      ">> Epoch 58 finished \tANN training loss 1.779103\n",
      ">> Epoch 59 finished \tANN training loss 1.760766\n",
      ">> Epoch 60 finished \tANN training loss 1.692209\n",
      ">> Epoch 61 finished \tANN training loss 1.664076\n",
      ">> Epoch 62 finished \tANN training loss 1.753510\n",
      ">> Epoch 63 finished \tANN training loss 1.787686\n",
      ">> Epoch 64 finished \tANN training loss 1.687554\n",
      ">> Epoch 65 finished \tANN training loss 1.679767\n",
      ">> Epoch 66 finished \tANN training loss 1.680232\n",
      ">> Epoch 67 finished \tANN training loss 1.646476\n",
      ">> Epoch 68 finished \tANN training loss 1.687077\n",
      ">> Epoch 69 finished \tANN training loss 1.626272\n",
      ">> Epoch 70 finished \tANN training loss 1.621996\n",
      ">> Epoch 71 finished \tANN training loss 1.604702\n",
      ">> Epoch 72 finished \tANN training loss 1.650420\n",
      ">> Epoch 73 finished \tANN training loss 1.637427\n",
      ">> Epoch 74 finished \tANN training loss 1.606921\n",
      ">> Epoch 75 finished \tANN training loss 1.604830\n",
      ">> Epoch 76 finished \tANN training loss 1.619988\n",
      ">> Epoch 77 finished \tANN training loss 1.553758\n",
      ">> Epoch 78 finished \tANN training loss 1.590378\n",
      ">> Epoch 79 finished \tANN training loss 1.558124\n",
      ">> Epoch 80 finished \tANN training loss 1.576610\n",
      ">> Epoch 81 finished \tANN training loss 1.572445\n",
      ">> Epoch 82 finished \tANN training loss 1.556573\n",
      ">> Epoch 83 finished \tANN training loss 1.551053\n",
      ">> Epoch 84 finished \tANN training loss 1.519907\n",
      ">> Epoch 85 finished \tANN training loss 1.503112\n",
      ">> Epoch 86 finished \tANN training loss 1.494877\n",
      ">> Epoch 87 finished \tANN training loss 1.519150\n",
      ">> Epoch 88 finished \tANN training loss 1.462385\n",
      ">> Epoch 89 finished \tANN training loss 1.528463\n",
      ">> Epoch 90 finished \tANN training loss 1.537473\n",
      ">> Epoch 91 finished \tANN training loss 1.441713\n",
      ">> Epoch 92 finished \tANN training loss 1.456711\n",
      ">> Epoch 93 finished \tANN training loss 1.504729\n",
      ">> Epoch 94 finished \tANN training loss 1.452582\n",
      ">> Epoch 95 finished \tANN training loss 1.409363\n",
      ">> Epoch 96 finished \tANN training loss 1.424509\n",
      ">> Epoch 97 finished \tANN training loss 1.411972\n",
      ">> Epoch 98 finished \tANN training loss 1.503253\n",
      ">> Epoch 99 finished \tANN training loss 1.476516\n",
      "[END] Fine tuning step\n",
      "Done.\n",
      "Accuracy: 0.670842\n"
     ]
    }
   ],
   "source": [
    "# Training\n",
    "\n",
    "classifier = SupervisedDBNClassification(hidden_layers_structure = hidden_layer_structure,\n",
    "                                         learning_rate_rbm = learning_rate,\n",
    "                                         learning_rate = 0.1,\n",
    "                                         n_epochs_rbm = n_epochs_rbm,\n",
    "                                         n_iter_backprop = 100,\n",
    "                                         batch_size = batch_size,\n",
    "                                         activation_function = 'relu',\n",
    "                                         dropout_p = 0.2)\n",
    "#classifier.fit(train_data, train_labels)\n",
    "classifier.fit(train_val, labels_train_val)\n",
    "\n",
    "\n",
    "# Test\n",
    "test_pred = classifier.predict(test_data)\n",
    "accuracy = accuracy_score(test_labels, test_pred)\n",
    "print('Done.\\nAccuracy: %f' % accuracy)\n",
    "result = Result(hidden_layer_structure, n_epochs_rbm, batch_size, learning_rate, accuracy)\n",
    "results.append(result)\n"
   ]
  },
  {
   "cell_type": "code",
   "execution_count": 57,
   "metadata": {
    "scrolled": true
   },
   "outputs": [
    {
     "name": "stdout",
     "output_type": "stream",
     "text": [
      "structure [16, 16] epochs 10 batch size: 32 learning rate: 0.1 accuracy: 0.34377174669450244\n",
      "structure [32, 32] epochs 10 batch size: 32 learning rate: 0.1 accuracy: 0.7070285316631872\n",
      "structure [24, 24] epochs 10 batch size: 32 learning rate: 0.1 accuracy: 0.616562282533055\n",
      "structure [10, 10] epochs 10 batch size: 32 learning rate: 0.1 accuracy: 0.4112734864300626\n",
      "structure [48, 48] epochs 10 batch size: 32 learning rate: 0.1 accuracy: 0.697981906750174\n",
      "structure [40, 40] epochs 10 batch size: 32 learning rate: 0.1 accuracy: 0.7139874739039666\n",
      "structure [64, 64] epochs 10 batch size: 32 learning rate: 0.1 accuracy: 0.6931106471816284\n",
      "structure [32, 32] epochs 5 batch size: 32 learning rate: 0.1 accuracy: 0.6833681280445373\n",
      "structure [32, 32] epochs 2 batch size: 32 learning rate: 0.1 accuracy: 0.6576200417536534\n",
      "structure [32, 32] epochs 8 batch size: 32 learning rate: 0.1 accuracy: 0.6228253305497564\n",
      "structure [32, 32] epochs 1 batch size: 32 learning rate: 0.1 accuracy: 0.7292971468336813\n",
      "structure [32, 32] epochs 12 batch size: 32 learning rate: 0.1 accuracy: 0.6708420320111343\n"
     ]
    }
   ],
   "source": [
    "with open('data.txt', 'w') as f:\n",
    "    for result in results:\n",
    "        print(\"structure\", result.h_structure, \"epochs\", result.n_epochs, \"batch size:\", result.batch_size, \"learning rate:\", result.learning_rate, \"accuracy:\", result.accuracy)\n",
    "        j = json.dumps(result._asdict())\n",
    "        f.write(\"%s\\n\" % j)\n",
    "    "
   ]
  },
  {
   "cell_type": "code",
   "execution_count": null,
   "metadata": {},
   "outputs": [],
   "source": []
  }
 ],
 "metadata": {
  "kernelspec": {
   "display_name": "Python 3",
   "language": "python",
   "name": "python3"
  },
  "language_info": {
   "codemirror_mode": {
    "name": "ipython",
    "version": 3
   },
   "file_extension": ".py",
   "mimetype": "text/x-python",
   "name": "python",
   "nbconvert_exporter": "python",
   "pygments_lexer": "ipython3",
   "version": "3.7.1"
  }
 },
 "nbformat": 4,
 "nbformat_minor": 1
}
