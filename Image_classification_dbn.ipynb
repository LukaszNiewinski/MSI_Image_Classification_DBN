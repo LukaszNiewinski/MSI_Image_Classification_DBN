{
 "cells": [
  {
   "cell_type": "markdown",
   "metadata": {
    "collapsed": true
   },
   "source": [
    "# Images classification using Deep Belief Network"
   ]
  },
  {
   "cell_type": "code",
   "execution_count": 120,
   "metadata": {},
   "outputs": [],
   "source": [
    "import numpy as np\n",
    "\n",
    "import random\n",
    "np.random.seed(1337)  # for reproducibility\n",
    "\n",
    "from scipy.io import loadmat\n",
    "\n",
    "%matplotlib inline\n",
    "from matplotlib import pyplot as plt\n",
    "\n",
    "from sklearn.metrics.classification import accuracy_score\n",
    "from sklearn.model_selection import train_test_split\n",
    "from collections import namedtuple\n",
    "\n",
    "from dbn.tensorflow import SupervisedDBNClassification"
   ]
  },
  {
   "cell_type": "markdown",
   "metadata": {},
   "source": [
    "### Loading and preprocessing the data"
   ]
  },
  {
   "cell_type": "code",
   "execution_count": 92,
   "metadata": {},
   "outputs": [
    {
     "name": "stdout",
     "output_type": "stream",
     "text": [
      "Read keys stored within an annots dict:\n",
      "\n",
      " dict_keys(['__header__', '__version__', '__globals__', 'classnames', 'train_data', 'val_data', 'test_data', 'train_labels', 'val_labels', 'test_labels']) \n",
      "\n"
     ]
    }
   ],
   "source": [
    "# Import data from matlab .mat file\n",
    "data_dir = 'data'\n",
    "# dir for data files 16px and 28 pix\n",
    "data_dir_16split = data_dir + '/caltech101_silhouettes_16_split1.mat'\n",
    "data_dir_28split = data_dir + '/caltech101_silhouettes_28_split1.mat'\n",
    "\n",
    "# define range of classes, between 1-101  \n",
    "left = 1\n",
    "right = 33\n",
    "\n",
    "# data reads from .mat file are stored within dict list annots\n",
    "annots = loadmat(data_dir_28split)\n",
    "\n",
    "# Create list of all classes read from data file \n",
    "classnames = []\n",
    "class_num_to_name = dict()\n",
    "# a mapping dictionary from class number to its name\n",
    "for i in range(left-1, right):\n",
    "    classnames.append(annots['classnames'][0][i][0])\n",
    "    class_num_to_name[i+1] = annots['classnames'][0][i][0]\n",
    "    \n",
    "print(\"Read keys stored within an annots dict:\\n\\n\", annots.keys(), \"\\n\")\n",
    "\n",
    "# print(\"A list of\", left,\"-\", right, \"mapped classnames:\\n\")\n",
    "# print(class_num_to_name)"
   ]
  },
  {
   "cell_type": "code",
   "execution_count": 93,
   "metadata": {},
   "outputs": [],
   "source": [
    "# function dat extract data with labels within range <left, right>\n",
    "def get_proper_classes(data_name, label_name, left, right):\n",
    "    data = list()\n",
    "    labels = list()\n",
    "    i = 0\n",
    "    for img in annots[data_name]:\n",
    "        if annots[label_name][i] <= right and annots[label_name][i] >= left:\n",
    "            data.append(img)\n",
    "            labels.append(annots[label_name][i])\n",
    "        i += 1 \n",
    "    data = np.array(data)\n",
    "    labels = np.array(labels).flatten()\n",
    "    return data, labels"
   ]
  },
  {
   "cell_type": "code",
   "execution_count": 94,
   "metadata": {},
   "outputs": [
    {
     "name": "stdout",
     "output_type": "stream",
     "text": [
      "train_data shape: (1587, 784) train_labels shape: (1587,)\n",
      "val_data shape: (1428, 784) val_labels shape: (1428,)\n",
      "test_data shape: (1441, 784) test_labels shape: (1441,)\n"
     ]
    }
   ],
   "source": [
    "# an image is represented by an array of 256 or 784 elements (16x16pix or 28x28pix)\n",
    "train_data, train_labels = get_proper_classes('train_data', 'train_labels', left, right)\n",
    "val_data, val_labels = get_proper_classes('val_data', 'val_labels', left, right)\n",
    "test_data, test_labels = get_proper_classes('test_data', 'test_labels', left, right)\n",
    "\n",
    "# simple check if each image has it's label\n",
    "print(\"train_data shape:\", train_data.shape, \"train_labels shape:\", train_labels.shape)\n",
    "print(\"val_data shape:\", val_data.shape, \"val_labels shape:\", val_labels.shape)\n",
    "print(\"test_data shape:\", test_data.shape, \"test_labels shape:\", test_labels.shape)"
   ]
  },
  {
   "cell_type": "code",
   "execution_count": 95,
   "metadata": {},
   "outputs": [],
   "source": [
    "# function that counts quantity of images of each class\n",
    "def count_images(dictionary, label_name, label):\n",
    "    for x in label:\n",
    "        dic_counts[label_name][x] = dic_counts[label_name].get(x) + 1 \n",
    "    return dictionary "
   ]
  },
  {
   "cell_type": "code",
   "execution_count": 96,
   "metadata": {},
   "outputs": [
    {
     "name": "stdout",
     "output_type": "stream",
     "text": [
      "\u001b[1mCLASS NAME          ID         TRAIN      VAL        TEST       \u001b[0m\n",
      "Airplanes Side 2    1          100        349        349       \n",
      "Faces 2             2          100        167        168       \n",
      "Faces 3             3          100        167        168       \n",
      "Leopards            4          100        50         50        \n",
      "Motorbikes 16       5          100        349        349       \n",
      "accordion           6          33         11         11        \n",
      "anchor              7          26         8          8         \n",
      "ant                 8          26         8          8         \n",
      "barrel              9          29         9          9         \n",
      "bass                10         33         10         11        \n",
      "beaver              11         28         9          9         \n",
      "binocular           12         20         6          7         \n",
      "bonsai              13         77         25         26        \n",
      "brain               14         59         19         20        \n",
      "brontosaurus        15         26         8          9         \n",
      "buddha              16         51         17         17        \n",
      "butterfly           17         55         18         18        \n",
      "camera              18         30         9          10        \n",
      "cannon              19         26         8          9         \n",
      "car side            20         74         24         25        \n",
      "ceiling fan         21         29         9          9         \n",
      "cellphone           22         36         11         12        \n",
      "chair               23         38         12         12        \n",
      "chandelier          24         65         21         21        \n",
      "cougar body         25         29         9          9         \n",
      "cougar face         26         42         13         14        \n",
      "crab                27         44         14         15        \n",
      "crayfish            28         42         14         14        \n",
      "crocodile           29         30         10         10        \n",
      "crocodile head      30         31         10         10        \n",
      "cup                 31         35         11         11        \n",
      "dalmatian           32         41         13         13        \n",
      "dollar bill         33         32         10         10        \n",
      "\n",
      "total number of elements: 4456\n"
     ]
    }
   ],
   "source": [
    "# count number of images of each class within each label group\n",
    "labels_names = ['train_labels', 'val_labels', 'test_labels']\n",
    "\n",
    "# classes are within range\n",
    "classes = [i for i in range(left, right+1)]\n",
    "\n",
    "# create empty nested dictionaries to store quantity of each class img within each group\n",
    "dic_counts = { label:{ class_id: 0 for class_id in classes} for label in labels}\n",
    "\n",
    "# count number of occurences of each class within each group\n",
    "dic_counts = count_images(dic_counts, 'train_labels', train_labels)\n",
    "dic_counts = count_images(dic_counts, 'val_labels', val_labels)\n",
    "dic_counts = count_images(dic_counts, 'test_labels', test_labels)\n",
    "        \n",
    "# print data\n",
    "total =0\n",
    "print(\"\\033[1m{:<20}{:<10} {:<10} {:<10} {:<10} \\033[0m\".format('CLASS NAME', 'ID', 'TRAIN', \"VAL\", \"TEST\"))\n",
    "for class_id in classes:\n",
    "    print('{:<20}{:<10} {:<10} {:<10} {:<10}'.format(classnames[class_id-1], class_id, dic_counts['train_labels'][class_id],\n",
    "                                                 dic_counts['val_labels'][class_id],\n",
    "                                                 dic_counts['test_labels'][class_id]))\n",
    "#     # restrict output rows to 10 elements\n",
    "#     if class_id == 10:\n",
    "#         print('{:<20}{:<10} {:<10} {:<10} {:<10}'.format(\"...\", \"...\", \"...\", \"...\", \"...\"))\n",
    "#         break\n",
    "total = train_data.shape[0] + val_data.shape[0] + test_data.shape[0]\n",
    "print(\"\\ntotal number of elements:\", total)"
   ]
  },
  {
   "cell_type": "code",
   "execution_count": 97,
   "metadata": {},
   "outputs": [
    {
     "name": "stdout",
     "output_type": "stream",
     "text": [
      "Example of digit images of size: 28 x 28\n"
     ]
    },
    {
     "data": {
      "image/png": "[encoded data removed]",
      "text/plain": [
       "<Figure size 1440x1440 with 5 Axes>"
      ]
     },
     "metadata": {
      "needs_background": "light"
     },
     "output_type": "display_data"
    },
    {
     "name": "stdout",
     "output_type": "stream",
     "text": [
      "  brain                      Motorbikes 16            Airplanes Side 2          Leopards                  brontosaurus             \n"
     ]
    }
   ],
   "source": [
    "# displaying an exmaple images from a ndarray format\n",
    "# set width and height, depends on read data\n",
    "if annots['train_data'].shape[1] == 256:\n",
    "    w, h = 16, 16\n",
    "else:\n",
    "    w, h = 28, 28\n",
    "\n",
    "print(\"Example of digit images of size:\", w, \"x\", h )\n",
    "# an id's of 5 example images to be displayed, possible range: 'train_data' 0 - 4081, 'val_data' 0 - 2256, 'test_data' 0 - 2301 \n",
    "# generate 5 random integers within proper range for chosen label\n",
    "ids = [random.randint(0,train_data.shape[0]) for _ in range(5)]\n",
    "images = []\n",
    "for id in ids:\n",
    "    image = train_data[id]\n",
    "    # ndarray to store data that can be displayed, width x height x RGB\n",
    "    data = np.zeros((h, w, 3), dtype = np.uint8)\n",
    "    row = 0\n",
    "    column = 0 \n",
    "    for x in image:\n",
    "        if x == 1:\n",
    "            data[row, column]=[255, 255, 255]\n",
    "        row += 1 \n",
    "        if row == h:\n",
    "            column += 1 \n",
    "            row = 0\n",
    "    images.append(data)\n",
    "# matplot used to display an image\n",
    "i = 1\n",
    "rows = 1\n",
    "columns = len(ids)\n",
    "fig = plt.figure(figsize=(20,20))\n",
    "for data in images:\n",
    "    fig.add_subplot(rows, columns, i)\n",
    "    plt.imshow(data, interpolation='nearest')\n",
    "    i += 1 \n",
    "plt.show()\n",
    "class_examples = [classnames[train_labels[x]-1] for x in ids]\n",
    "print('  {:<27}{:<25}{:<26}{:<26}{:<25}'.format(class_examples[0], class_examples[1], class_examples[2], class_examples[3], class_examples[4]))"
   ]
  },
  {
   "cell_type": "markdown",
   "metadata": {},
   "source": [
    "## Building the model"
   ]
  },
  {
   "cell_type": "code",
   "execution_count": 129,
   "metadata": {},
   "outputs": [],
   "source": [
    "# prepare structure store the results\n",
    "Result = namedtuple('Result', 'h_structure, n_epochs batch_size learning_rate accuracy')\n",
    "results = list()"
   ]
  },
  {
   "cell_type": "code",
   "execution_count": 126,
   "metadata": {},
   "outputs": [
    {
     "name": "stdout",
     "output_type": "stream",
     "text": [
      "train data size: (3015, 784)\n",
      "train labels size (3015,)\n",
      "test data size: (1441, 784)\n",
      "test labels size: (1441,)\n"
     ]
    }
   ],
   "source": [
    "# prepare input data\n",
    "train_val = np.concatenate((train_data, val_data), axis=0).astype(np.float32)\n",
    "labels_train_val = np.concatenate((train_labels, val_labels), axis=0)\n",
    "#X_train, X_test, Y_train, Y_test = train_test_split(train, labels, test_size=0.2, random_state=0)\n",
    "\n",
    "print(\"train data size:\", train_val.shape) \n",
    "print(\"train labels size\", labels_train_val.shape)\n",
    "print(\"test data size:\", test_data.shape)\n",
    "print(\"test labels size:\", test_labels.shape)"
   ]
  },
  {
   "cell_type": "code",
   "execution_count": 147,
   "metadata": {},
   "outputs": [],
   "source": [
    "# set the parameters:\n",
    "hidden_layer_structure = [128,128]\n",
    "n_epochs_rbm = 10\n",
    "batch_size = 32\n",
    "learning_rate = 0.1"
   ]
  },
  {
   "cell_type": "code",
   "execution_count": 148,
   "metadata": {},
   "outputs": [
    {
     "name": "stdout",
     "output_type": "stream",
     "text": [
      "[START] Pre-training step:\n",
      ">> Epoch 1 finished \tRBM Reconstruction error 424928.937500\n",
      ">> Epoch 2 finished \tRBM Reconstruction error 322314.343750\n",
      ">> Epoch 3 finished \tRBM Reconstruction error 461072.468750\n",
      ">> Epoch 4 finished \tRBM Reconstruction error 401535.781250\n",
      ">> Epoch 5 finished \tRBM Reconstruction error 444005.375000\n",
      ">> Epoch 6 finished \tRBM Reconstruction error 394695.718750\n",
      ">> Epoch 7 finished \tRBM Reconstruction error 372172.625000\n",
      ">> Epoch 8 finished \tRBM Reconstruction error 433543.000000\n",
      ">> Epoch 9 finished \tRBM Reconstruction error 484111.906250\n",
      ">> Epoch 10 finished \tRBM Reconstruction error 600452.687500\n",
      ">> Epoch 1 finished \tRBM Reconstruction error 81356193792.000000\n",
      ">> Epoch 2 finished \tRBM Reconstruction error 81992835072.000000\n",
      ">> Epoch 3 finished \tRBM Reconstruction error 73026723840.000000\n",
      ">> Epoch 4 finished \tRBM Reconstruction error 60178399232.000000\n",
      ">> Epoch 5 finished \tRBM Reconstruction error 71381319680.000000\n",
      ">> Epoch 6 finished \tRBM Reconstruction error 68422905856.000000\n",
      ">> Epoch 7 finished \tRBM Reconstruction error 69932711936.000000\n",
      ">> Epoch 8 finished \tRBM Reconstruction error 66765635584.000000\n",
      ">> Epoch 9 finished \tRBM Reconstruction error 69183594496.000000\n",
      ">> Epoch 10 finished \tRBM Reconstruction error 62971514880.000000\n",
      "[END] Pre-training step\n",
      "[START] Fine tuning step:\n",
      ">> Epoch 0 finished \tANN training loss 2.880200\n",
      ">> Epoch 1 finished \tANN training loss 2.709118\n",
      ">> Epoch 2 finished \tANN training loss 2.825894\n",
      ">> Epoch 3 finished \tANN training loss 2.658984\n",
      ">> Epoch 4 finished \tANN training loss 2.552594\n",
      ">> Epoch 5 finished \tANN training loss 2.570407\n",
      ">> Epoch 6 finished \tANN training loss 2.462087\n",
      ">> Epoch 7 finished \tANN training loss 2.429033\n",
      ">> Epoch 8 finished \tANN training loss 2.215017\n",
      ">> Epoch 9 finished \tANN training loss 2.047543\n",
      ">> Epoch 10 finished \tANN training loss 1.945431\n",
      ">> Epoch 11 finished \tANN training loss 1.944017\n",
      ">> Epoch 12 finished \tANN training loss 1.916388\n",
      ">> Epoch 13 finished \tANN training loss 2.168930\n",
      ">> Epoch 14 finished \tANN training loss 1.965735\n",
      ">> Epoch 15 finished \tANN training loss 1.861064\n",
      ">> Epoch 16 finished \tANN training loss 1.990246\n",
      ">> Epoch 17 finished \tANN training loss 1.869838\n",
      ">> Epoch 18 finished \tANN training loss 1.917323\n",
      ">> Epoch 19 finished \tANN training loss 1.884886\n",
      ">> Epoch 20 finished \tANN training loss 1.805165\n",
      ">> Epoch 21 finished \tANN training loss 1.774230\n",
      ">> Epoch 22 finished \tANN training loss 1.883820\n",
      ">> Epoch 23 finished \tANN training loss 1.694578\n",
      ">> Epoch 24 finished \tANN training loss 1.751628\n",
      ">> Epoch 25 finished \tANN training loss 1.800067\n",
      ">> Epoch 26 finished \tANN training loss 1.728369\n",
      ">> Epoch 27 finished \tANN training loss 1.782163\n",
      ">> Epoch 28 finished \tANN training loss 2.001263\n",
      ">> Epoch 29 finished \tANN training loss 1.836729\n",
      ">> Epoch 30 finished \tANN training loss 1.746678\n",
      ">> Epoch 31 finished \tANN training loss 1.742385\n",
      ">> Epoch 32 finished \tANN training loss 2.470260\n",
      ">> Epoch 33 finished \tANN training loss 1.705582\n",
      ">> Epoch 34 finished \tANN training loss 1.706446\n",
      ">> Epoch 35 finished \tANN training loss 2.130766\n",
      ">> Epoch 36 finished \tANN training loss 1.693194\n",
      ">> Epoch 37 finished \tANN training loss 1.950310\n",
      ">> Epoch 38 finished \tANN training loss 3.105696\n",
      ">> Epoch 39 finished \tANN training loss 1.831673\n",
      ">> Epoch 40 finished \tANN training loss 1.642507\n",
      ">> Epoch 41 finished \tANN training loss 1.789607\n",
      ">> Epoch 42 finished \tANN training loss 1.618638\n",
      ">> Epoch 43 finished \tANN training loss 1.683935\n",
      ">> Epoch 44 finished \tANN training loss 4.388330\n",
      ">> Epoch 45 finished \tANN training loss 2.078299\n",
      ">> Epoch 46 finished \tANN training loss 1.579930\n",
      ">> Epoch 47 finished \tANN training loss 1.639625\n",
      ">> Epoch 48 finished \tANN training loss 1.691365\n",
      ">> Epoch 49 finished \tANN training loss 1.740789\n",
      ">> Epoch 50 finished \tANN training loss 1.677957\n",
      ">> Epoch 51 finished \tANN training loss 1.684811\n",
      ">> Epoch 52 finished \tANN training loss 1.569084\n",
      ">> Epoch 53 finished \tANN training loss 1.591101\n",
      ">> Epoch 54 finished \tANN training loss 1.731220\n",
      ">> Epoch 55 finished \tANN training loss 1.868236\n",
      ">> Epoch 56 finished \tANN training loss 1.572957\n",
      ">> Epoch 57 finished \tANN training loss 1.624382\n",
      ">> Epoch 58 finished \tANN training loss 1.887211\n",
      ">> Epoch 59 finished \tANN training loss 1.684935\n",
      ">> Epoch 60 finished \tANN training loss 2.082108\n",
      ">> Epoch 61 finished \tANN training loss 1.601726\n",
      ">> Epoch 62 finished \tANN training loss 1.645129\n",
      ">> Epoch 63 finished \tANN training loss 1.704175\n",
      ">> Epoch 64 finished \tANN training loss 1.729308\n",
      ">> Epoch 65 finished \tANN training loss 1.862170\n",
      ">> Epoch 66 finished \tANN training loss 1.637558\n",
      ">> Epoch 67 finished \tANN training loss 1.744231\n",
      ">> Epoch 68 finished \tANN training loss 1.756609\n",
      ">> Epoch 69 finished \tANN training loss 1.545325\n",
      ">> Epoch 70 finished \tANN training loss 1.598040\n",
      ">> Epoch 71 finished \tANN training loss 1.954240\n",
      ">> Epoch 72 finished \tANN training loss 2.000465\n",
      ">> Epoch 73 finished \tANN training loss 1.746532\n",
      ">> Epoch 74 finished \tANN training loss 1.581669\n",
      ">> Epoch 75 finished \tANN training loss 1.540892\n",
      ">> Epoch 76 finished \tANN training loss 1.769879\n",
      ">> Epoch 77 finished \tANN training loss 1.808052\n",
      ">> Epoch 78 finished \tANN training loss 2.186451\n",
      ">> Epoch 79 finished \tANN training loss 1.849041\n",
      ">> Epoch 80 finished \tANN training loss 1.529963\n",
      ">> Epoch 81 finished \tANN training loss 1.561936\n",
      ">> Epoch 82 finished \tANN training loss 1.667686\n",
      ">> Epoch 83 finished \tANN training loss 1.682915\n",
      ">> Epoch 84 finished \tANN training loss 1.440030\n",
      ">> Epoch 85 finished \tANN training loss 1.467528\n",
      ">> Epoch 86 finished \tANN training loss 3.153295\n",
      ">> Epoch 87 finished \tANN training loss 1.532822\n",
      ">> Epoch 88 finished \tANN training loss 1.904783\n",
      ">> Epoch 89 finished \tANN training loss 1.622409\n",
      ">> Epoch 90 finished \tANN training loss 1.735470\n",
      ">> Epoch 91 finished \tANN training loss 1.821939\n",
      ">> Epoch 92 finished \tANN training loss 1.499498\n",
      ">> Epoch 93 finished \tANN training loss 1.480610\n",
      ">> Epoch 94 finished \tANN training loss 1.668756\n",
      ">> Epoch 95 finished \tANN training loss 1.572984\n",
      ">> Epoch 96 finished \tANN training loss 1.460420\n",
      ">> Epoch 97 finished \tANN training loss 1.561207\n",
      ">> Epoch 98 finished \tANN training loss 1.527297\n",
      ">> Epoch 99 finished \tANN training loss 1.739615\n",
      "[END] Fine tuning step\n",
      "Done.\n",
      "Accuracy: 0.563498\n"
     ]
    }
   ],
   "source": [
    "# Training\n",
    "\n",
    "classifier = SupervisedDBNClassification(hidden_layers_structure = hidden_layer_structure,\n",
    "                                         learning_rate_rbm = learning_rate,\n",
    "                                         learning_rate = 0.1,\n",
    "                                         n_epochs_rbm = n_epochs_rbm,\n",
    "                                         n_iter_backprop = 100,\n",
    "                                         batch_size = batch_size,\n",
    "                                         activation_function = 'relu',\n",
    "                                         dropout_p = 0.2)\n",
    "#classifier.fit(train_data, train_labels)\n",
    "classifier.fit(train, labels)\n",
    "\n",
    "\n",
    "# Test\n",
    "test_pred = classifier.predict(test_data)\n",
    "accuracy = accuracy_score(test_labels, test_pred)\n",
    "print('Done.\\nAccuracy: %f' % accuracy)\n",
    "result = Result(hidden_layer_structure, n_epochs_rbm, batch_size, learning_rate, accuracy)\n",
    "results.append(result)\n"
   ]
  },
  {
   "cell_type": "code",
   "execution_count": 149,
   "metadata": {},
   "outputs": [
    {
     "name": "stdout",
     "output_type": "stream",
     "text": [
      "structure [256, 256] epochs 10 batch size: 32 learning rate: 0.1 accuracy: 0.7265787647467037\n",
      "structure [256, 256] epochs 10 batch size: 64 learning rate: 0.1 accuracy: 0.24219292158223457\n",
      "structure [256, 256] epochs 10 batch size: 48 learning rate: 0.1 accuracy: 0.6863289382373352\n",
      "structure [256, 256] epochs 10 batch size: 16 learning rate: 0.1 accuracy: 0.6884108258154059\n",
      "structure [784, 784] epochs 10 batch size: 32 learning rate: 0.1 accuracy: 0.732824427480916\n",
      "structure [512, 512] epochs 10 batch size: 32 learning rate: 0.1 accuracy: 0.6835530881332408\n",
      "structure [128, 128] epochs 10 batch size: 32 learning rate: 0.1 accuracy: 0.563497571131159\n"
     ]
    }
   ],
   "source": [
    "for result in results:\n",
    "    print(\"structure\", result.h_structure, \"epochs\", result.n_epochs, \"batch size:\", result.batch_size, \"learning rate:\", result.learning_rate, \"accuracy:\", result.accuracy)"
   ]
  },
  {
   "cell_type": "code",
   "execution_count": null,
   "metadata": {},
   "outputs": [],
   "source": []
  }
 ],
 "metadata": {
  "kernelspec": {
   "display_name": "Python 3",
   "language": "python",
   "name": "python3"
  },
  "language_info": {
   "codemirror_mode": {
    "name": "ipython",
    "version": 3
   },
   "file_extension": ".py",
   "mimetype": "text/x-python",
   "name": "python",
   "nbconvert_exporter": "python",
   "pygments_lexer": "ipython3",
   "version": "3.7.1"
  }
 },
 "nbformat": 4,
 "nbformat_minor": 1
}
