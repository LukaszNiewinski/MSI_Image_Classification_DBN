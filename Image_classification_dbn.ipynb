{
 "cells": [
  {
   "cell_type": "markdown",
   "metadata": {
    "collapsed": true
   },
   "source": [
    "# Images classification using Deep Belief Network"
   ]
  },
  {
   "cell_type": "code",
   "execution_count": 3,
   "metadata": {},
   "outputs": [],
   "source": [
    "import numpy as np\n",
    "import random\n",
    "\n",
    "from scipy.io import loadmat\n",
    "\n",
    "%matplotlib inline\n",
    "from matplotlib import pyplot as plt"
   ]
  },
  {
   "cell_type": "markdown",
   "metadata": {},
   "source": [
    "### Loading and preprocessing the data"
   ]
  },
  {
   "cell_type": "code",
   "execution_count": 9,
   "metadata": {},
   "outputs": [
    {
     "name": "stdout",
     "output_type": "stream",
     "text": [
      "Read data stored within an annots list:\n",
      "\n",
      " dict_keys(['__header__', '__version__', '__globals__', 'classnames', 'train_data', 'val_data', 'test_data', 'train_labels', 'val_labels', 'test_labels']) \n",
      "\n",
      "A list of all  101 mapped classnames:\n",
      "\n",
      "{1: 'Airplanes Side 2', 2: 'Faces 2', 3: 'Faces 3', 4: 'Leopards', 5: 'Motorbikes 16', 6: 'accordion', 7: 'anchor', 8: 'ant', 9: 'barrel', 10: 'bass', 11: 'beaver', 12: 'binocular', 13: 'bonsai', 14: 'brain', 15: 'brontosaurus', 16: 'buddha', 17: 'butterfly', 18: 'camera', 19: 'cannon', 20: 'car side', 21: 'ceiling fan', 22: 'cellphone', 23: 'chair', 24: 'chandelier', 25: 'cougar body', 26: 'cougar face', 27: 'crab', 28: 'crayfish', 29: 'crocodile', 30: 'crocodile head', 31: 'cup', 32: 'dalmatian', 33: 'dollar bill', 34: 'dolphin', 35: 'dragonfly', 36: 'electric guitar', 37: 'elephant', 38: 'emu', 39: 'euphonium', 40: 'ewer', 41: 'ferry', 42: 'flamingo', 43: 'flamingo head', 44: 'garfield', 45: 'gerenuk', 46: 'gramophone', 47: 'grand piano', 48: 'hawksbill', 49: 'headphone', 50: 'hedgehog', 51: 'helicopter', 52: 'ibis', 53: 'inline skate', 54: 'joshua tree', 55: 'kangaroo', 56: 'ketch', 57: 'lamp', 58: 'laptop', 59: 'llama', 60: 'lobster', 61: 'lotus', 62: 'mandolin', 63: 'mayfly', 64: 'menorah', 65: 'metronome', 66: 'minaret', 67: 'nautilus', 68: 'octopus', 69: 'okapi', 70: 'pagoda', 71: 'panda', 72: 'pigeon', 73: 'pizza', 74: 'platypus', 75: 'pyramid', 76: 'revolver', 77: 'rhino', 78: 'rooster', 79: 'saxophone', 80: 'schooner', 81: 'scissors', 82: 'scorpion', 83: 'sea horse', 84: 'snoopy', 85: 'soccer ball', 86: 'stapler', 87: 'starfish', 88: 'stegosaurus', 89: 'stop sign', 90: 'strawberry', 91: 'sunflower', 92: 'tick', 93: 'trilobite', 94: 'umbrella', 95: 'watch', 96: 'water lilly', 97: 'wheelchair', 98: 'wild cat', 99: 'windsor chair', 100: 'wrench', 101: 'yin yang'}\n"
     ]
    }
   ],
   "source": [
    "# Import data from matlab .mat file\n",
    "data_dir = 'data'\n",
    "# dir for data files 16px and 28 pix\n",
    "data_dir_16split = data_dir + '/caltech101_silhouettes_16_split1.mat'\n",
    "data_dir_28split = data_dir + '/caltech101_silhouettes_28_split1.mat'\n",
    "\n",
    "# data reads from .mat file are stored within dict list annots\n",
    "annots = loadmat(data_dir_28split)\n",
    "\n",
    "# Create list of all classes read from data file \n",
    "classnames = []\n",
    "# a mapping dictionary from class number to its name\n",
    "i = 1\n",
    "for classname in annots['classnames'][0]:\n",
    "    classnames.append(classname[0])\n",
    "    i += 1 \n",
    "    \n",
    "print(\"Read data stored within an annots list:\\n\\n\", annots.keys(), \"\\n\")\n",
    "\n",
    "print(\"A list of all \", len(classnames), \"mapped classnames:\\n\")\n",
    "print(class_num_to_name)"
   ]
  },
  {
   "cell_type": "code",
   "execution_count": 5,
   "metadata": {},
   "outputs": [
    {
     "name": "stdout",
     "output_type": "stream",
     "text": [
      "train data shape: (4100, 784)\n",
      "val data shape: (2264, 784)\n",
      "test data shape: (2307, 784)\n",
      "\n",
      "train labels shape: (4100, 1)\n",
      "val labels shape (2264, 1)\n",
      "test labels shape (2307, 1)\n"
     ]
    }
   ],
   "source": [
    "# an image is represented by an array of 256 or 784 elements (16x16pix or 28x28pix)\n",
    "# train group: matrix 4082 x 256 means 4082 16x16 images within group\n",
    "print(\"train data shape:\", annots['train_data'].shape)\n",
    "print(\"val data shape:\",annots['val_data'].shape)\n",
    "print(\"test data shape:\", annots['test_data'].shape)\n",
    "print()\n",
    "# labels map each digit image to proper class\n",
    "print(\"train labels shape:\", annots['train_labels'].shape)\n",
    "print(\"val labels shape\", annots['val_labels'].shape)\n",
    "print(\"test labels shape\", annots['test_labels'].shape)"
   ]
  },
  {
   "cell_type": "code",
   "execution_count": 6,
   "metadata": {},
   "outputs": [
    {
     "name": "stdout",
     "output_type": "stream",
     "text": [
      "\u001b[1mCLASS NAME          ID         TRAIN      VAL        TEST       \u001b[0m\n",
      "Airplanes Side 2    1          100        349        349       \n",
      "Faces 2             2          100        167        168       \n",
      "Faces 3             3          100        167        168       \n",
      "Leopards            4          100        50         50        \n",
      "Motorbikes 16       5          100        349        349       \n",
      "accordion           6          33         11         11        \n",
      "anchor              7          26         8          8         \n",
      "ant                 8          26         8          8         \n",
      "barrel              9          29         9          9         \n",
      "bass                10         33         10         11        \n",
      "...                 ...        ...        ...        ...       \n",
      "\n",
      "total number of elements: 2906\n"
     ]
    }
   ],
   "source": [
    "# count number of images of each class within each label group\n",
    "labels = ['train_labels', 'val_labels', 'test_labels']\n",
    "\n",
    "# classes are within range 1-101, later caled class id\n",
    "classes = [i for i in range(1, 102)]\n",
    "\n",
    "# create empty nested dictionaries to store quantity of each class img within each group\n",
    "dic_counts = { label:{ class_id: 0 for class_id in classes} for label in labels}\n",
    "\n",
    "# write number of elements to each dictionary\n",
    "for label in labels:\n",
    "    for x in annots[label].tolist():\n",
    "        dic_counts[label][x[0]] = dic_counts[label].get(x[0]) + 1 \n",
    "        \n",
    "# print data\n",
    "i = 0\n",
    "total =0\n",
    "print(\"\\033[1m{:<20}{:<10} {:<10} {:<10} {:<10} \\033[0m\".format('CLASS NAME', 'ID', 'TRAIN', \"VAL\", \"TEST\"))\n",
    "for class_id in classes:\n",
    "    print('{:<20}{:<10} {:<10} {:<10} {:<10}'.format(classnames[i], class_id, dic_counts['train_labels'][class_id],\n",
    "                                                 dic_counts['val_labels'][class_id],\n",
    "                                                 dic_counts['test_labels'][class_id]))\n",
    "    i += 1\n",
    "    total += dic_counts['train_labels'][class_id] +dic_counts['val_labels'][class_id] + dic_counts['test_labels'][class_id]\n",
    "    # restrict output rows to 10 elements\n",
    "    if i == 10:\n",
    "        print('{:<20}{:<10} {:<10} {:<10} {:<10}'.format(\"...\", \"...\", \"...\", \"...\", \"...\"))\n",
    "        break\n",
    "print(\"\\ntotal number of elements:\", total)"
   ]
  },
  {
   "cell_type": "code",
   "execution_count": 7,
   "metadata": {},
   "outputs": [
    {
     "name": "stdout",
     "output_type": "stream",
     "text": [
      "Example of digit images of size: 28 x 28\n"
     ]
    },
    {
     "data": {
      "image/png": "[encoded data removed]",
      "text/plain": [
       "<Figure size 1440x1440 with 5 Axes>"
      ]
     },
     "metadata": {
      "needs_background": "light"
     },
     "output_type": "display_data"
    },
    {
     "name": "stdout",
     "output_type": "stream",
     "text": [
      "  scorpion                   pizza                    ceiling fan               pyramid                   watch                    \n"
     ]
    }
   ],
   "source": [
    "# displaying an exmaple images from a ndarray format\n",
    "# set width and height, depends on read data\n",
    "if annots['train_data'].shape[1] == 256:\n",
    "    w, h = 16, 16\n",
    "else:\n",
    "    w, h = 28, 28\n",
    "\n",
    "print(\"Example of digit images of size:\", w, \"x\", h )\n",
    "# an id's of 5 example images to be displayed, possible range: 'train_data' 0 - 4081, 'val_data' 0 - 2256, 'test_data' 0 - 2301 \n",
    "# generate 5 random integers within proper range for chosen label\n",
    "ids = [random.randint(0,4081) for _ in range(5)]\n",
    "images = []\n",
    "for id in ids:\n",
    "    image = annots['train_data'][id]\n",
    "    # ndarray to store data that can be displayed, width x height x RGB\n",
    "    data = np.zeros((h, w, 3), dtype = np.uint8)\n",
    "    row = 0\n",
    "    column = 0 \n",
    "    for x in image:\n",
    "        if x == 1:\n",
    "            data[row, column]=[255, 255, 255]\n",
    "        row += 1 \n",
    "        if row == h:\n",
    "            column += 1 \n",
    "            row = 0\n",
    "    images.append(data)\n",
    "# matplot used to display an image\n",
    "i = 1\n",
    "rows = 1\n",
    "columns = len(ids)\n",
    "fig = plt.figure(figsize=(20,20))\n",
    "for data in images:\n",
    "    fig.add_subplot(rows, columns, i)\n",
    "    plt.imshow(data, interpolation='nearest')\n",
    "    i += 1 \n",
    "plt.show()\n",
    "class_examples = [classnames[annots['train_labels'][x][0]-1] for x in ids]\n",
    "print('  {:<27}{:<25}{:<26}{:<26}{:<25}'.format(class_examples[0], class_examples[1], class_examples[2], class_examples[3], class_examples[4]))"
   ]
  },
  {
   "cell_type": "code",
   "execution_count": null,
   "metadata": {},
   "outputs": [],
   "source": []
  }
 ],
 "metadata": {
  "kernelspec": {
   "display_name": "Python 3",
   "language": "python",
   "name": "python3"
  },
  "language_info": {
   "codemirror_mode": {
    "name": "ipython",
    "version": 3
   },
   "file_extension": ".py",
   "mimetype": "text/x-python",
   "name": "python",
   "nbconvert_exporter": "python",
   "pygments_lexer": "ipython3",
   "version": "3.7.1"
  }
 },
 "nbformat": 4,
 "nbformat_minor": 1
}
